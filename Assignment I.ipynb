{
 "cells": [
  {
   "cell_type": "code",
   "execution_count": null,
   "id": "2fc74854-5a0b-4350-9640-6b3e7c1956d0",
   "metadata": {},
   "outputs": [
    {
     "name": "stdout",
     "output_type": "stream",
     "text": [
      "  |   |  \n",
      "- + - + -\n",
      "  |   |  \n",
      "- + - + -\n",
      "  |   |  \n",
      "Turn for X. Move to which space?\n"
     ]
    },
    {
     "name": "stdin",
     "output_type": "stream",
     "text": [
      " mid-c\n"
     ]
    },
    {
     "name": "stdout",
     "output_type": "stream",
     "text": [
      "  |   |  \n",
      "- + - + -\n",
      "  | X |  \n",
      "- + - + -\n",
      "  |   |  \n",
      "Turn for O. Move to which space?\n"
     ]
    },
    {
     "name": "stdin",
     "output_type": "stream",
     "text": [
      " top-l\n"
     ]
    },
    {
     "name": "stdout",
     "output_type": "stream",
     "text": [
      "O |   |  \n",
      "- + - + -\n",
      "  | X |  \n",
      "- + - + -\n",
      "  |   |  \n",
      "Turn for X. Move to which space?\n"
     ]
    },
    {
     "name": "stdin",
     "output_type": "stream",
     "text": [
      " top-r\n"
     ]
    },
    {
     "name": "stdout",
     "output_type": "stream",
     "text": [
      "O |   | X\n",
      "- + - + -\n",
      "  | X |  \n",
      "- + - + -\n",
      "  |   |  \n",
      "Turn for O. Move to which space?\n"
     ]
    },
    {
     "name": "stdin",
     "output_type": "stream",
     "text": [
      " bot-r\n"
     ]
    },
    {
     "name": "stdout",
     "output_type": "stream",
     "text": [
      "O |   | X\n",
      "- + - + -\n",
      "  | X |  \n",
      "- + - + -\n",
      "  |   | O\n",
      "Turn for X. Move to which space?\n"
     ]
    }
   ],
   "source": [
    "# 1. Ask user for position\n",
    "# 2. Redraw based on the position entered (validation)\n",
    "# 3. Check for result (x or o win? draw?)\n",
    "# bonus mark: use py, t.tictaetoe() class, t.print_tile()\n",
    "\n",
    "from TicTaeToe import *\n",
    "\n",
    "t = tictaetoe()\n",
    "\n",
    "t.print_tile()\n",
    "\n",
    "t.play()"
   ]
  }
 ],
 "metadata": {
  "kernelspec": {
   "display_name": "Python 3 (ipykernel)",
   "language": "python",
   "name": "python3"
  },
  "language_info": {
   "codemirror_mode": {
    "name": "ipython",
    "version": 3
   },
   "file_extension": ".py",
   "mimetype": "text/x-python",
   "name": "python",
   "nbconvert_exporter": "python",
   "pygments_lexer": "ipython3",
   "version": "3.11.7"
  }
 },
 "nbformat": 4,
 "nbformat_minor": 5
}
